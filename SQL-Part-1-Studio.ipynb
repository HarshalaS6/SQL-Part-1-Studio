{
    "metadata": {
        "kernelspec": {
            "name": "SQL",
            "display_name": "SQL",
            "language": "sql"
        },
        "language_info": {
            "name": "sql",
            "version": ""
        },
        "extensions": {
            "azuredatastudio": {
                "version": 1,
                "views": []
            }
        }
    },
    "nbformat_minor": 2,
    "nbformat": 4,
    "cells": [
        {
            "cell_type": "markdown",
            "source": [
                "# SQL Part 1 Studio\n",
                "\n",
                "### Let's practice your SQL quering skills!  For each question, work along in the notebook adding your query and answering the questions. \n",
                "\n",
                "### **DataSet**\n",
                "\n",
                "### <span style=\"font-size: 14px; font-family: -apple-system, BlinkMacSystemFont, sans-serif;\">We will be using the Goodbooks-10k dataset from the exercises in the prep work.&nbsp; Feel free to reference your notebook.</span>\n",
                "\n",
                "- The dataset can be found here: [goodbooks-10k](https://www.kaggle.com/zygmunt/goodbooks-10k)\n",
                "- You can access the **BooksDB** in the Launchcode server.\n",
                "\n",
                "### **Business Issue**\n",
                "\n",
                "You work for a small independant book store and you want to increase sales by running various promotions.  Start by becoming more familar with the BooksDB."
            ],
            "metadata": {
                "azdata_cell_guid": "b9034d8a-b631-48bf-a895-1012a6ffa784"
            }
        },
        {
            "cell_type": "markdown",
            "source": [
                "## Part 1. BooksDB Questions\n",
                "\n",
                "<span style=\"color: rgba(0, 0, 0, 0.87); font-family: -apple-system, system-ui, &quot;Segoe UI&quot;, Helvetica, Arial, sans-serif, &quot;Apple Color Emoji&quot;, &quot;Segoe UI Emoji&quot;, &quot;Segoe UI Symbol&quot;; background-color: rgb(255, 255, 255);\">Question 1:&nbsp; Write a query of the books table, returning the TOP 100 results and&nbsp; includes, book_id, authors, title, average_rating.&nbsp; Use an alias for at least one column and in descending order of rating.&nbsp; What is the number one book?</span>"
            ],
            "metadata": {
                "azdata_cell_guid": "6e55eb1c-4a14-4076-90d2-95ed17a6309f",
                "tags": [
                    "hide_input"
                ]
            },
            "attachments": {}
        },
        {
            "cell_type": "code",
            "source": [
                "-- return top 100 results\n",
                "SELECT top 100 \n",
                "book_id, authors, title, average_rating\n",
                "FROM BooksDB.dbo.books\n",
                "ORDER BY average_rating DESC"
            ],
            "metadata": {
                "azdata_cell_guid": "470b0ca4-9a32-4b46-a42e-bbb645101769",
                "tags": [],
                "language": "sql"
            },
            "outputs": [
                {
                    "output_type": "display_data",
                    "data": {
                        "text/html": "(100 rows affected)"
                    },
                    "metadata": {}
                },
                {
                    "output_type": "display_data",
                    "data": {
                        "text/html": "Total execution time: 00:00:00.386"
                    },
                    "metadata": {}
                },
                {
                    "output_type": "execute_result",
                    "metadata": {},
                    "execution_count": 17,
                    "data": {
                        "application/vnd.dataresource+json": {
                            "schema": {
                                "fields": [
                                    {
                                        "name": "book_id"
                                    },
                                    {
                                        "name": "authors"
                                    },
                                    {
                                        "name": "title"
                                    },
                                    {
                                        "name": "average_rating"
                                    }
                                ]
                            },
                            "data": [
                                {
                                    "book_id": "24812",
                                    "authors": "Bill Watterson",
                                    "title": "The Complete Calvin and Hobbes",
                                    "average_rating": "4.82"
                                },
                                {
                                    "book_id": "17332218",
                                    "authors": "Brandon Sanderson",
                                    "title": "Words of Radiance (The Stormlight Archive, #2)",
                                    "average_rating": "4.77"
                                },
                                {
                                    "book_id": "8",
                                    "authors": "J.K. Rowling, Mary GrandPré",
                                    "title": "Harry Potter Boxed Set, Books 1-5 (Harry Potter, #1-5)",
                                    "average_rating": "4.77"
                                },
                                {
                                    "book_id": "5031805",
                                    "authors": "Anonymous, Lane T. Dennis, Wayne A. Grudem",
                                    "title": "ESV Study Bible",
                                    "average_rating": "4.76"
                                },
                                {
                                    "book_id": "95602",
                                    "authors": "Francine Rivers",
                                    "title": "Mark of the Lion Trilogy",
                                    "average_rating": "4.76"
                                },
                                {
                                    "book_id": "24814",
                                    "authors": "Bill Watterson",
                                    "title": "It's a Magical World: A Calvin and Hobbes Collection",
                                    "average_rating": "4.75"
                                },
                                {
                                    "book_id": "862041",
                                    "authors": "J.K. Rowling",
                                    "title": "Harry Potter Boxset (Harry Potter, #1-7)",
                                    "average_rating": "4.74"
                                },
                                {
                                    "book_id": "70489",
                                    "authors": "Bill Watterson",
                                    "title": "There's Treasure Everywhere: A Calvin and Hobbes Collection",
                                    "average_rating": "4.74"
                                },
                                {
                                    "book_id": "10",
                                    "authors": "J.K. Rowling",
                                    "title": "Harry Potter Collection (Harry Potter, #1-6)",
                                    "average_rating": "4.73"
                                },
                                {
                                    "book_id": "59715",
                                    "authors": "Bill Watterson",
                                    "title": "The Authoritative Calvin and Hobbes: A Calvin and Hobbes Treasury",
                                    "average_rating": "4.73"
                                },
                                {
                                    "book_id": "24815",
                                    "authors": "Bill Watterson",
                                    "title": "The Indispensable Calvin and Hobbes",
                                    "average_rating": "4.73"
                                },
                                {
                                    "book_id": "17927395",
                                    "authors": "Sarah J. Maas",
                                    "title": "A Court of Mist and Fury (A Court of Thorns and Roses, #2)",
                                    "average_rating": "4.72"
                                },
                                {
                                    "book_id": "70487",
                                    "authors": "Bill Watterson",
                                    "title": "Attack of the Deranged Mutant Killer Monster Snow Goons",
                                    "average_rating": "4.72"
                                },
                                {
                                    "book_id": "24816",
                                    "authors": "Bill Watterson",
                                    "title": "Homicidal Psycho Jungle Cat: A Calvin and Hobbes Collection",
                                    "average_rating": "4.71"
                                },
                                {
                                    "book_id": "121792",
                                    "authors": "Bill Watterson",
                                    "title": "The Revenge of the Baby-Sat",
                                    "average_rating": "4.71"
                                },
                                {
                                    "book_id": "2350129",
                                    "authors": "The Church of Jesus Christ of Latter-day Saints",
                                    "title": "Preach My Gospel: A Guide To Missionary Service",
                                    "average_rating": "4.71"
                                },
                                {
                                    "book_id": "24818",
                                    "authors": "Bill Watterson",
                                    "title": "The Days Are Just Packed: A Calvin and Hobbes Collection",
                                    "average_rating": "4.68"
                                },
                                {
                                    "book_id": "265205",
                                    "authors": "Anonymous, Ronald A. Beers, Ronald A. Beers",
                                    "title": "Life Application Study Bible: NIV",
                                    "average_rating": "4.67"
                                },
                                {
                                    "book_id": "9329354",
                                    "authors": "Brandon Sanderson",
                                    "title": "The Way of Kings, Part 1 (The Stormlight Archive #1.1)",
                                    "average_rating": "4.67"
                                },
                                {
                                    "book_id": "99298",
                                    "authors": "J.K. Rowling, Mary GrandPré",
                                    "title": "The Harry Potter Collection 1-4 (Harry Potter, #1-4)",
                                    "average_rating": "4.66"
                                },
                                {
                                    "book_id": "5883777",
                                    "authors": "Anonymous",
                                    "title": "The Holy Bible: English Standard Version",
                                    "average_rating": "4.66"
                                },
                                {
                                    "book_id": "24494",
                                    "authors": "Bill Watterson",
                                    "title": "The Calvin and Hobbes Lazy Sunday Book",
                                    "average_rating": "4.66"
                                },
                                {
                                    "book_id": "43070",
                                    "authors": "Bill Watterson",
                                    "title": "The Essential Calvin and Hobbes: A Calvin and Hobbes Treasury",
                                    "average_rating": "4.65"
                                },
                                {
                                    "book_id": "18337259",
                                    "authors": "Daniel Abraham, George R.R. Martin, Tommy Patterson",
                                    "title": "A Game of Thrones: Comic Book, Issue 1",
                                    "average_rating": "4.65"
                                },
                                {
                                    "book_id": "23753",
                                    "authors": "Neil Gaiman, Mike Dringenberg, Chris Bachalo, Michael Zulli, Kelly Jones, Charles Vess, Colleen Doran, Malcolm Jones III, Steve Parkhouse, Daniel Vozzo, Lee Loughridge, Steve Oliff, Todd Klein, Dave McKean, Sam Kieth",
                                    "title": "The Absolute Sandman, Volume One",
                                    "average_rating": "4.65"
                                },
                                {
                                    "book_id": "7235533",
                                    "authors": "Brandon Sanderson",
                                    "title": "The Way of Kings (The Stormlight Archive, #1)",
                                    "average_rating": "4.64"
                                },
                                {
                                    "book_id": "24813",
                                    "authors": "Bill Watterson",
                                    "title": "The Calvin and Hobbes Tenth Anniversary Book",
                                    "average_rating": "4.63"
                                },
                                {
                                    "book_id": "9814682",
                                    "authors": "George R.R. Martin",
                                    "title": "A Song of Ice and Fire (A Song of Ice and Fire, #1-4)",
                                    "average_rating": "4.63"
                                },
                                {
                                    "book_id": "12177850",
                                    "authors": "George R.R. Martin",
                                    "title": "A Song of Ice and Fire (A Song of Ice and Fire, #1-5)",
                                    "average_rating": "4.63"
                                },
                                {
                                    "book_id": "481749",
                                    "authors": "James E. Talmage",
                                    "title": "Jesus the Christ",
                                    "average_rating": "4.63"
                                },
                                {
                                    "book_id": "46292",
                                    "authors": "Hafez",
                                    "title": "The Divan",
                                    "average_rating": "4.63"
                                },
                                {
                                    "book_id": "6801614",
                                    "authors": "Eiichirō Oda",
                                    "title": "One Piece, Volume 38: Rocketman!! (One Piece, #38)",
                                    "average_rating": "4.63"
                                },
                                {
                                    "book_id": "22299763",
                                    "authors": "Leigh Bardugo",
                                    "title": "Crooked Kingdom (Six of Crows, #2)",
                                    "average_rating": "4.62"
                                },
                                {
                                    "book_id": "32075671",
                                    "authors": "Angie Thomas",
                                    "title": "The Hate U Give",
                                    "average_rating": "4.62"
                                },
                                {
                                    "book_id": "136251",
                                    "authors": "J.K. Rowling, Mary GrandPré",
                                    "title": "Harry Potter and the Deathly Hallows (Harry Potter, #7)",
                                    "average_rating": "4.61"
                                },
                                {
                                    "book_id": "77727",
                                    "authors": "Bill Watterson, G.B. Trudeau",
                                    "title": "Calvin and Hobbes",
                                    "average_rating": "4.61"
                                },
                                {
                                    "book_id": "280111",
                                    "authors": "Anonymous",
                                    "title": "Holy Bible: New International Version",
                                    "average_rating": "4.61"
                                },
                                {
                                    "book_id": "2223324",
                                    "authors": "John   Williams",
                                    "title": "Harry Potter and the Chamber of Secrets: Sheet Music for Flute with C.D",
                                    "average_rating": "4.61"
                                },
                                {
                                    "book_id": "6339989",
                                    "authors": "Richelle Mead",
                                    "title": "Vampire Academy Collection (Vampire Academy, #1-3)",
                                    "average_rating": "4.61"
                                },
                                {
                                    "book_id": "596259",
                                    "authors": "Gordon B. Hinckley",
                                    "title": "Standing for Something: 10 Neglected Virtues That Will Heal Our Hearts and Homes",
                                    "average_rating": "4.61"
                                },
                                {
                                    "book_id": "47697",
                                    "authors": "Alisa Kwitney, Neil Gaiman",
                                    "title": "The Sandman: King of Dreams",
                                    "average_rating": "4.61"
                                },
                                {
                                    "book_id": "18006496",
                                    "authors": "Sarah J. Maas",
                                    "title": "Queen of Shadows (Throne of Glass, #4)",
                                    "average_rating": "4.6"
                                },
                                {
                                    "book_id": "95617",
                                    "authors": "Francine Rivers, Richard Ferrone",
                                    "title": "A Voice in the Wind (Mark of the Lion, #1)",
                                    "average_rating": "4.6"
                                },
                                {
                                    "book_id": "46601",
                                    "authors": "Francine Rivers",
                                    "title": "An Echo in the Darkness (Mark of the Lion, #2)",
                                    "average_rating": "4.6"
                                },
                                {
                                    "book_id": "7025086",
                                    "authors": "Christopher Yost, Pasqual Ferry, Orson Scott Card",
                                    "title": "Ender's Game, Volume 2: Command School",
                                    "average_rating": "4.6"
                                },
                                {
                                    "book_id": "18335634",
                                    "authors": "Cassandra Clare",
                                    "title": "Clockwork Princess (The Infernal Devices, #3)",
                                    "average_rating": "4.59"
                                },
                                {
                                    "book_id": "30",
                                    "authors": "J.R.R. Tolkien",
                                    "title": "J.R.R. Tolkien 4-Book Boxed Set: The Hobbit and The Lord of the Rings",
                                    "average_rating": "4.59"
                                },
                                {
                                    "book_id": "2299110",
                                    "authors": "Sherrilyn Kenyon",
                                    "title": "Acheron (Dark-Hunter #14)",
                                    "average_rating": "4.59"
                                },
                                {
                                    "book_id": "119",
                                    "authors": "Gary Russell",
                                    "title": "The Lord of the Rings: The Art of The Fellowship of the Ring",
                                    "average_rating": "4.59"
                                },
                                {
                                    "book_id": "71252",
                                    "authors": "Neil Gaiman, Marc Hempel, Richard Case, D'Israeli, Teddy Kristiansen, Glyn Dillon, Charles Vess, Dean Ormston, Kevin Nowlan, Todd Klein, Frank McConnell",
                                    "title": "The Kindly Ones (The Sandman #9)",
                                    "average_rating": "4.59"
                                },
                                {
                                    "book_id": "349254",
                                    "authors": "Jude Fisher",
                                    "title": "The Lord of the Rings: The Return of the King: Visual Companion",
                                    "average_rating": "4.59"
                                },
                                {
                                    "book_id": "9832370",
                                    "authors": "BookRags",
                                    "title": "BookRags Summary:  A Storm of Swords",
                                    "average_rating": "4.59"
                                },
                                {
                                    "book_id": "11106458",
                                    "authors": "Cassandra Clare",
                                    "title": "The Mortal Instruments (The Mortal Instruments #1-4)",
                                    "average_rating": "4.59"
                                },
                                {
                                    "book_id": "14367051",
                                    "authors": "Cassandra Clare",
                                    "title": "City of Bones / City of Ashes / City of Glass / City of Fallen Angels / City of Lost Souls (The Mortal Instruments, #1-5)",
                                    "average_rating": "4.59"
                                },
                                {
                                    "book_id": "28260587",
                                    "authors": "Sarah J. Maas",
                                    "title": "Empire of Storms (Throne of Glass, #5)",
                                    "average_rating": "4.58"
                                },
                                {
                                    "book_id": "3165162",
                                    "authors": "Rick Riordan",
                                    "title": "Percy Jackson and the Olympians (Percy Jackson and the Olympians, #1-3)",
                                    "average_rating": "4.58"
                                },
                                {
                                    "book_id": "20342617",
                                    "authors": "Bryan Stevenson",
                                    "title": "Just Mercy: A Story of Justice and Redemption",
                                    "average_rating": "4.58"
                                },
                                {
                                    "book_id": "17961",
                                    "authors": "Jorge Luis Borges, Andrew Hurley",
                                    "title": "Collected Fictions",
                                    "average_rating": "4.58"
                                },
                                {
                                    "book_id": "4808763",
                                    "authors": "Isaac Asimov, Bob E. Flick, Jim Gallant",
                                    "title": "The Last Question",
                                    "average_rating": "4.58"
                                },
                                {
                                    "book_id": "15767586",
                                    "authors": "Sherrilyn Kenyon",
                                    "title": "Styxx (Dark-Hunter, #22)",
                                    "average_rating": "4.58"
                                },
                                {
                                    "book_id": "892295",
                                    "authors": "Arthur Conan Doyle, William S. Baring-Gould",
                                    "title": "The Annotated Sherlock Holmes: The Four Novels and the Fifty-Six Short Stories Complete (2 Volume Set)",
                                    "average_rating": "4.58"
                                },
                                {
                                    "book_id": "1215032",
                                    "authors": "Patrick Rothfuss",
                                    "title": "The Wise Man's Fear (The Kingkiller Chronicle, #2)",
                                    "average_rating": "4.57"
                                },
                                {
                                    "book_id": "6485421",
                                    "authors": "Cassandra Clare",
                                    "title": "The Mortal Instruments Boxed Set: City of Bones; City of Ashes; City of Glass (The Mortal Instruments, #1-3)",
                                    "average_rating": "4.57"
                                },
                                {
                                    "book_id": "17131869",
                                    "authors": "Brian K. Vaughan, Fiona Staples",
                                    "title": "Saga, Vol. 2 (Saga, #2)",
                                    "average_rating": "4.57"
                                },
                                {
                                    "book_id": "8718952",
                                    "authors": "Richelle Mead",
                                    "title": "Vampire Academy Box Set (Vampire Academy, #1-4)",
                                    "average_rating": "4.57"
                                },
                                {
                                    "book_id": "4634266",
                                    "authors": "Masashi Kishimoto",
                                    "title": "NARUTO -ナルト- 巻ノ四十三",
                                    "average_rating": "4.57"
                                },
                                {
                                    "book_id": "6443349",
                                    "authors": "Rick Riordan, Tk",
                                    "title": "Percy Jackson and the Olympians Boxed Set (Percy Jackson and the Olympians, #1-5)",
                                    "average_rating": "4.57"
                                },
                                {
                                    "book_id": "545425",
                                    "authors": "Safiy al-Rahman al-Mubarakfuri",
                                    "title": "الرحيق المختوم",
                                    "average_rating": "4.57"
                                },
                                {
                                    "book_id": "17333174",
                                    "authors": "Ilona Andrews",
                                    "title": "Magic Binds (Kate Daniels, #9)",
                                    "average_rating": "4.57"
                                },
                                {
                                    "book_id": "147915",
                                    "authors": "George R.R. Martin",
                                    "title": "A Storm of Swords: Blood and Gold (A Song of Ice and Fire, #3: Part 2 of 2)",
                                    "average_rating": "4.56"
                                },
                                {
                                    "book_id": "19358975",
                                    "authors": "Brian K. Vaughan, Fiona Staples",
                                    "title": "Saga, Vol. 3 (Saga, #3)",
                                    "average_rating": "4.56"
                                },
                                {
                                    "book_id": "10785687",
                                    "authors": "Bob McCabe",
                                    "title": "Harry Potter Page to Screen: The Complete Filmmaking Journey",
                                    "average_rating": "4.56"
                                },
                                {
                                    "book_id": "17880714",
                                    "authors": "K. Bromberg",
                                    "title": "Crashed (Driven, #3)",
                                    "average_rating": "4.56"
                                },
                                {
                                    "book_id": "1317181",
                                    "authors": "J.K. Rowling",
                                    "title": "Harry Potter and the Order of the Phoenix (Harry Potter, #5, Part 1)",
                                    "average_rating": "4.56"
                                },
                                {
                                    "book_id": "15743078",
                                    "authors": "Veronica Roth",
                                    "title": "The Divergent Series 2-Book Collection (Divergent, #1-2)",
                                    "average_rating": "4.56"
                                },
                                {
                                    "book_id": "29236299",
                                    "authors": "Amie Kaufman, Jay Kristoff, Marie Lu",
                                    "title": "Gemina (The Illuminae Files, #2)",
                                    "average_rating": "4.56"
                                },
                                {
                                    "book_id": "186074",
                                    "authors": "Patrick Rothfuss",
                                    "title": "The Name of the Wind (The Kingkiller Chronicle, #1)",
                                    "average_rating": "4.55"
                                },
                                {
                                    "book_id": "19486421",
                                    "authors": "Jim Butcher",
                                    "title": "Skin Game (The Dresden Files, #15)",
                                    "average_rating": "4.55"
                                },
                                {
                                    "book_id": "6604209",
                                    "authors": "Brandon Sanderson",
                                    "title": "Mistborn Trilogy Boxed Set (Mistborn, #1-3)",
                                    "average_rating": "4.55"
                                },
                                {
                                    "book_id": "25105",
                                    "authors": "Neil Gaiman, Jill Thompson, Vince Locke, Peter Straub",
                                    "title": "Brief Lives (The Sandman #7)",
                                    "average_rating": "4.55"
                                },
                                {
                                    "book_id": "8346300",
                                    "authors": "Andrew Williamson, Andrew Williamson",
                                    "title": "Harry Potter: A Pop-Up Book: Based on the Film Phenomenon",
                                    "average_rating": "4.55"
                                },
                                {
                                    "book_id": "14905",
                                    "authors": "Jane Austen",
                                    "title": "The Complete Novels",
                                    "average_rating": "4.55"
                                },
                                {
                                    "book_id": "13184992",
                                    "authors": "Kristen Ashley",
                                    "title": "Rock Chick Regret (Rock Chick, #7)",
                                    "average_rating": "4.55"
                                },
                                {
                                    "book_id": "71823",
                                    "authors": "Stephen King",
                                    "title": "The Green Mile, Part 6: Coffey on the Mile",
                                    "average_rating": "4.55"
                                },
                                {
                                    "book_id": "1",
                                    "authors": "J.K. Rowling, Mary GrandPré",
                                    "title": "Harry Potter and the Half-Blood Prince (Harry Potter, #6)",
                                    "average_rating": "4.54"
                                },
                                {
                                    "book_id": "62291",
                                    "authors": "George R.R. Martin",
                                    "title": "A Storm of Swords (A Song of Ice and Fire, #3)",
                                    "average_rating": "4.54"
                                },
                                {
                                    "book_id": "21853621",
                                    "authors": "Kristin Hannah",
                                    "title": "The Nightingale",
                                    "average_rating": "4.54"
                                },
                                {
                                    "book_id": "12127810",
                                    "authors": "Rick Riordan",
                                    "title": "The House of Hades (The Heroes of Olympus, #4)",
                                    "average_rating": "4.54"
                                },
                                {
                                    "book_id": "6585201",
                                    "authors": "Jim Butcher",
                                    "title": "Changes (The Dresden Files, #12)",
                                    "average_rating": "4.54"
                                },
                                {
                                    "book_id": "381421",
                                    "authors": "Sarah  Young",
                                    "title": "Jesus Calling: Enjoying Peace in His Presence",
                                    "average_rating": "4.54"
                                },
                                {
                                    "book_id": "25101",
                                    "authors": "Neil Gaiman, Matt Wagner, George Pratt, Dick Giordano, Kelley Jones, P. Craig Russell, Mike Dringenberg, Malcolm Jones III, Todd Klein, Harlan Ellison",
                                    "title": "Season of Mists (The Sandman #4)",
                                    "average_rating": "4.54"
                                },
                                {
                                    "book_id": "89959",
                                    "authors": "Founding Fathers",
                                    "title": "The Constitution of the United States of America",
                                    "average_rating": "4.54"
                                },
                                {
                                    "book_id": "23766634",
                                    "authors": "Sarah J. Maas",
                                    "title": "A Court of Wings and Ruin (A Court of Thorns and Roses, #3)",
                                    "average_rating": "4.54"
                                },
                                {
                                    "book_id": "20706320",
                                    "authors": "Chris Colfer, Brandon Dorman",
                                    "title": "A Grimm Warning (The Land of Stories, #3)",
                                    "average_rating": "4.54"
                                },
                                {
                                    "book_id": "8163161",
                                    "authors": "Bisco Hatori",
                                    "title": "Ouran High School Host Club, Vol. 15 (Ouran High School Host Club, #15)",
                                    "average_rating": "4.54"
                                },
                                {
                                    "book_id": "5",
                                    "authors": "J.K. Rowling, Mary GrandPré, Rufus Beck",
                                    "title": "Harry Potter and the Prisoner of Azkaban (Harry Potter, #3)",
                                    "average_rating": "4.53"
                                },
                                {
                                    "book_id": "6",
                                    "authors": "J.K. Rowling, Mary GrandPré",
                                    "title": "Harry Potter and the Goblet of Fire (Harry Potter, #4)",
                                    "average_rating": "4.53"
                                },
                                {
                                    "book_id": "20613470",
                                    "authors": "Sarah J. Maas",
                                    "title": "Heir of Fire (Throne of Glass, #3)",
                                    "average_rating": "4.53"
                                },
                                {
                                    "book_id": "15195",
                                    "authors": "Art Spiegelman",
                                    "title": "The Complete Maus (Maus, #1-2)",
                                    "average_rating": "4.53"
                                },
                                {
                                    "book_id": "25104",
                                    "authors": "Neil Gaiman, Michael Zulli, Jon J. Muth, Charles Vess, Mikal Gilmore",
                                    "title": "The Wake (The Sandman #10)",
                                    "average_rating": "4.53"
                                }
                            ]
                        },
                        "text/html": [
                            "<table>",
                            "<tr><th>book_id</th><th>authors</th><th>title</th><th>average_rating</th></tr>",
                            "<tr><td>24812</td><td>Bill Watterson</td><td>The Complete Calvin and Hobbes</td><td>4.82</td></tr>",
                            "<tr><td>17332218</td><td>Brandon Sanderson</td><td>Words of Radiance (The Stormlight Archive, #2)</td><td>4.77</td></tr>",
                            "<tr><td>8</td><td>J.K. Rowling, Mary GrandPré</td><td>Harry Potter Boxed Set, Books 1-5 (Harry Potter, #1-5)</td><td>4.77</td></tr>",
                            "<tr><td>5031805</td><td>Anonymous, Lane T. Dennis, Wayne A. Grudem</td><td>ESV Study Bible</td><td>4.76</td></tr>",
                            "<tr><td>95602</td><td>Francine Rivers</td><td>Mark of the Lion Trilogy</td><td>4.76</td></tr>",
                            "<tr><td>24814</td><td>Bill Watterson</td><td>It's a Magical World: A Calvin and Hobbes Collection</td><td>4.75</td></tr>",
                            "<tr><td>862041</td><td>J.K. Rowling</td><td>Harry Potter Boxset (Harry Potter, #1-7)</td><td>4.74</td></tr>",
                            "<tr><td>70489</td><td>Bill Watterson</td><td>There's Treasure Everywhere: A Calvin and Hobbes Collection</td><td>4.74</td></tr>",
                            "<tr><td>10</td><td>J.K. Rowling</td><td>Harry Potter Collection (Harry Potter, #1-6)</td><td>4.73</td></tr>",
                            "<tr><td>59715</td><td>Bill Watterson</td><td>The Authoritative Calvin and Hobbes: A Calvin and Hobbes Treasury</td><td>4.73</td></tr>",
                            "<tr><td>24815</td><td>Bill Watterson</td><td>The Indispensable Calvin and Hobbes</td><td>4.73</td></tr>",
                            "<tr><td>17927395</td><td>Sarah J. Maas</td><td>A Court of Mist and Fury (A Court of Thorns and Roses, #2)</td><td>4.72</td></tr>",
                            "<tr><td>70487</td><td>Bill Watterson</td><td>Attack of the Deranged Mutant Killer Monster Snow Goons</td><td>4.72</td></tr>",
                            "<tr><td>24816</td><td>Bill Watterson</td><td>Homicidal Psycho Jungle Cat: A Calvin and Hobbes Collection</td><td>4.71</td></tr>",
                            "<tr><td>121792</td><td>Bill Watterson</td><td>The Revenge of the Baby-Sat</td><td>4.71</td></tr>",
                            "<tr><td>2350129</td><td>The Church of Jesus Christ of Latter-day Saints</td><td>Preach My Gospel: A Guide To Missionary Service</td><td>4.71</td></tr>",
                            "<tr><td>24818</td><td>Bill Watterson</td><td>The Days Are Just Packed: A Calvin and Hobbes Collection</td><td>4.68</td></tr>",
                            "<tr><td>265205</td><td>Anonymous, Ronald A. Beers, Ronald A. Beers</td><td>Life Application Study Bible: NIV</td><td>4.67</td></tr>",
                            "<tr><td>9329354</td><td>Brandon Sanderson</td><td>The Way of Kings, Part 1 (The Stormlight Archive #1.1)</td><td>4.67</td></tr>",
                            "<tr><td>99298</td><td>J.K. Rowling, Mary GrandPré</td><td>The Harry Potter Collection 1-4 (Harry Potter, #1-4)</td><td>4.66</td></tr>",
                            "<tr><td>5883777</td><td>Anonymous</td><td>The Holy Bible: English Standard Version</td><td>4.66</td></tr>",
                            "<tr><td>24494</td><td>Bill Watterson</td><td>The Calvin and Hobbes Lazy Sunday Book</td><td>4.66</td></tr>",
                            "<tr><td>43070</td><td>Bill Watterson</td><td>The Essential Calvin and Hobbes: A Calvin and Hobbes Treasury</td><td>4.65</td></tr>",
                            "<tr><td>18337259</td><td>Daniel Abraham, George R.R. Martin, Tommy Patterson</td><td>A Game of Thrones: Comic Book, Issue 1</td><td>4.65</td></tr>",
                            "<tr><td>23753</td><td>Neil Gaiman, Mike Dringenberg, Chris Bachalo, Michael Zulli, Kelly Jones, Charles Vess, Colleen Doran, Malcolm Jones III, Steve Parkhouse, Daniel Vozzo, Lee Loughridge, Steve Oliff, Todd Klein, Dave McKean, Sam Kieth</td><td>The Absolute Sandman, Volume One</td><td>4.65</td></tr>",
                            "<tr><td>7235533</td><td>Brandon Sanderson</td><td>The Way of Kings (The Stormlight Archive, #1)</td><td>4.64</td></tr>",
                            "<tr><td>24813</td><td>Bill Watterson</td><td>The Calvin and Hobbes Tenth Anniversary Book</td><td>4.63</td></tr>",
                            "<tr><td>9814682</td><td>George R.R. Martin</td><td>A Song of Ice and Fire (A Song of Ice and Fire, #1-4)</td><td>4.63</td></tr>",
                            "<tr><td>12177850</td><td>George R.R. Martin</td><td>A Song of Ice and Fire (A Song of Ice and Fire, #1-5)</td><td>4.63</td></tr>",
                            "<tr><td>481749</td><td>James E. Talmage</td><td>Jesus the Christ</td><td>4.63</td></tr>",
                            "<tr><td>46292</td><td>Hafez</td><td>The Divan</td><td>4.63</td></tr>",
                            "<tr><td>6801614</td><td>Eiichirō Oda</td><td>One Piece, Volume 38: Rocketman!! (One Piece, #38)</td><td>4.63</td></tr>",
                            "<tr><td>22299763</td><td>Leigh Bardugo</td><td>Crooked Kingdom (Six of Crows, #2)</td><td>4.62</td></tr>",
                            "<tr><td>32075671</td><td>Angie Thomas</td><td>The Hate U Give</td><td>4.62</td></tr>",
                            "<tr><td>136251</td><td>J.K. Rowling, Mary GrandPré</td><td>Harry Potter and the Deathly Hallows (Harry Potter, #7)</td><td>4.61</td></tr>",
                            "<tr><td>77727</td><td>Bill Watterson, G.B. Trudeau</td><td>Calvin and Hobbes</td><td>4.61</td></tr>",
                            "<tr><td>280111</td><td>Anonymous</td><td>Holy Bible: New International Version</td><td>4.61</td></tr>",
                            "<tr><td>2223324</td><td>John   Williams</td><td>Harry Potter and the Chamber of Secrets: Sheet Music for Flute with C.D</td><td>4.61</td></tr>",
                            "<tr><td>6339989</td><td>Richelle Mead</td><td>Vampire Academy Collection (Vampire Academy, #1-3)</td><td>4.61</td></tr>",
                            "<tr><td>596259</td><td>Gordon B. Hinckley</td><td>Standing for Something: 10 Neglected Virtues That Will Heal Our Hearts and Homes</td><td>4.61</td></tr>",
                            "<tr><td>47697</td><td>Alisa Kwitney, Neil Gaiman</td><td>The Sandman: King of Dreams</td><td>4.61</td></tr>",
                            "<tr><td>18006496</td><td>Sarah J. Maas</td><td>Queen of Shadows (Throne of Glass, #4)</td><td>4.6</td></tr>",
                            "<tr><td>95617</td><td>Francine Rivers, Richard Ferrone</td><td>A Voice in the Wind (Mark of the Lion, #1)</td><td>4.6</td></tr>",
                            "<tr><td>46601</td><td>Francine Rivers</td><td>An Echo in the Darkness (Mark of the Lion, #2)</td><td>4.6</td></tr>",
                            "<tr><td>7025086</td><td>Christopher Yost, Pasqual Ferry, Orson Scott Card</td><td>Ender's Game, Volume 2: Command School</td><td>4.6</td></tr>",
                            "<tr><td>18335634</td><td>Cassandra Clare</td><td>Clockwork Princess (The Infernal Devices, #3)</td><td>4.59</td></tr>",
                            "<tr><td>30</td><td>J.R.R. Tolkien</td><td>J.R.R. Tolkien 4-Book Boxed Set: The Hobbit and The Lord of the Rings</td><td>4.59</td></tr>",
                            "<tr><td>2299110</td><td>Sherrilyn Kenyon</td><td>Acheron (Dark-Hunter #14)</td><td>4.59</td></tr>",
                            "<tr><td>119</td><td>Gary Russell</td><td>The Lord of the Rings: The Art of The Fellowship of the Ring</td><td>4.59</td></tr>",
                            "<tr><td>71252</td><td>Neil Gaiman, Marc Hempel, Richard Case, D'Israeli, Teddy Kristiansen, Glyn Dillon, Charles Vess, Dean Ormston, Kevin Nowlan, Todd Klein, Frank McConnell</td><td>The Kindly Ones (The Sandman #9)</td><td>4.59</td></tr>",
                            "<tr><td>349254</td><td>Jude Fisher</td><td>The Lord of the Rings: The Return of the King: Visual Companion</td><td>4.59</td></tr>",
                            "<tr><td>9832370</td><td>BookRags</td><td>BookRags Summary:  A Storm of Swords</td><td>4.59</td></tr>",
                            "<tr><td>11106458</td><td>Cassandra Clare</td><td>The Mortal Instruments (The Mortal Instruments #1-4)</td><td>4.59</td></tr>",
                            "<tr><td>14367051</td><td>Cassandra Clare</td><td>City of Bones / City of Ashes / City of Glass / City of Fallen Angels / City of Lost Souls (The Mortal Instruments, #1-5)</td><td>4.59</td></tr>",
                            "<tr><td>28260587</td><td>Sarah J. Maas</td><td>Empire of Storms (Throne of Glass, #5)</td><td>4.58</td></tr>",
                            "<tr><td>3165162</td><td>Rick Riordan</td><td>Percy Jackson and the Olympians (Percy Jackson and the Olympians, #1-3)</td><td>4.58</td></tr>",
                            "<tr><td>20342617</td><td>Bryan Stevenson</td><td>Just Mercy: A Story of Justice and Redemption</td><td>4.58</td></tr>",
                            "<tr><td>17961</td><td>Jorge Luis Borges, Andrew Hurley</td><td>Collected Fictions</td><td>4.58</td></tr>",
                            "<tr><td>4808763</td><td>Isaac Asimov, Bob E. Flick, Jim Gallant</td><td>The Last Question</td><td>4.58</td></tr>",
                            "<tr><td>15767586</td><td>Sherrilyn Kenyon</td><td>Styxx (Dark-Hunter, #22)</td><td>4.58</td></tr>",
                            "<tr><td>892295</td><td>Arthur Conan Doyle, William S. Baring-Gould</td><td>The Annotated Sherlock Holmes: The Four Novels and the Fifty-Six Short Stories Complete (2 Volume Set)</td><td>4.58</td></tr>",
                            "<tr><td>1215032</td><td>Patrick Rothfuss</td><td>The Wise Man's Fear (The Kingkiller Chronicle, #2)</td><td>4.57</td></tr>",
                            "<tr><td>6485421</td><td>Cassandra Clare</td><td>The Mortal Instruments Boxed Set: City of Bones; City of Ashes; City of Glass (The Mortal Instruments, #1-3)</td><td>4.57</td></tr>",
                            "<tr><td>17131869</td><td>Brian K. Vaughan, Fiona Staples</td><td>Saga, Vol. 2 (Saga, #2)</td><td>4.57</td></tr>",
                            "<tr><td>8718952</td><td>Richelle Mead</td><td>Vampire Academy Box Set (Vampire Academy, #1-4)</td><td>4.57</td></tr>",
                            "<tr><td>4634266</td><td>Masashi Kishimoto</td><td>NARUTO -ナルト- 巻ノ四十三</td><td>4.57</td></tr>",
                            "<tr><td>6443349</td><td>Rick Riordan, Tk</td><td>Percy Jackson and the Olympians Boxed Set (Percy Jackson and the Olympians, #1-5)</td><td>4.57</td></tr>",
                            "<tr><td>545425</td><td>Safiy al-Rahman al-Mubarakfuri</td><td>الرحيق المختوم</td><td>4.57</td></tr>",
                            "<tr><td>17333174</td><td>Ilona Andrews</td><td>Magic Binds (Kate Daniels, #9)</td><td>4.57</td></tr>",
                            "<tr><td>147915</td><td>George R.R. Martin</td><td>A Storm of Swords: Blood and Gold (A Song of Ice and Fire, #3: Part 2 of 2)</td><td>4.56</td></tr>",
                            "<tr><td>19358975</td><td>Brian K. Vaughan, Fiona Staples</td><td>Saga, Vol. 3 (Saga, #3)</td><td>4.56</td></tr>",
                            "<tr><td>10785687</td><td>Bob McCabe</td><td>Harry Potter Page to Screen: The Complete Filmmaking Journey</td><td>4.56</td></tr>",
                            "<tr><td>17880714</td><td>K. Bromberg</td><td>Crashed (Driven, #3)</td><td>4.56</td></tr>",
                            "<tr><td>1317181</td><td>J.K. Rowling</td><td>Harry Potter and the Order of the Phoenix (Harry Potter, #5, Part 1)</td><td>4.56</td></tr>",
                            "<tr><td>15743078</td><td>Veronica Roth</td><td>The Divergent Series 2-Book Collection (Divergent, #1-2)</td><td>4.56</td></tr>",
                            "<tr><td>29236299</td><td>Amie Kaufman, Jay Kristoff, Marie Lu</td><td>Gemina (The Illuminae Files, #2)</td><td>4.56</td></tr>",
                            "<tr><td>186074</td><td>Patrick Rothfuss</td><td>The Name of the Wind (The Kingkiller Chronicle, #1)</td><td>4.55</td></tr>",
                            "<tr><td>19486421</td><td>Jim Butcher</td><td>Skin Game (The Dresden Files, #15)</td><td>4.55</td></tr>",
                            "<tr><td>6604209</td><td>Brandon Sanderson</td><td>Mistborn Trilogy Boxed Set (Mistborn, #1-3)</td><td>4.55</td></tr>",
                            "<tr><td>25105</td><td>Neil Gaiman, Jill Thompson, Vince Locke, Peter Straub</td><td>Brief Lives (The Sandman #7)</td><td>4.55</td></tr>",
                            "<tr><td>8346300</td><td>Andrew Williamson, Andrew Williamson</td><td>Harry Potter: A Pop-Up Book: Based on the Film Phenomenon</td><td>4.55</td></tr>",
                            "<tr><td>14905</td><td>Jane Austen</td><td>The Complete Novels</td><td>4.55</td></tr>",
                            "<tr><td>13184992</td><td>Kristen Ashley</td><td>Rock Chick Regret (Rock Chick, #7)</td><td>4.55</td></tr>",
                            "<tr><td>71823</td><td>Stephen King</td><td>The Green Mile, Part 6: Coffey on the Mile</td><td>4.55</td></tr>",
                            "<tr><td>1</td><td>J.K. Rowling, Mary GrandPré</td><td>Harry Potter and the Half-Blood Prince (Harry Potter, #6)</td><td>4.54</td></tr>",
                            "<tr><td>62291</td><td>George R.R. Martin</td><td>A Storm of Swords (A Song of Ice and Fire, #3)</td><td>4.54</td></tr>",
                            "<tr><td>21853621</td><td>Kristin Hannah</td><td>The Nightingale</td><td>4.54</td></tr>",
                            "<tr><td>12127810</td><td>Rick Riordan</td><td>The House of Hades (The Heroes of Olympus, #4)</td><td>4.54</td></tr>",
                            "<tr><td>6585201</td><td>Jim Butcher</td><td>Changes (The Dresden Files, #12)</td><td>4.54</td></tr>",
                            "<tr><td>381421</td><td>Sarah  Young</td><td>Jesus Calling: Enjoying Peace in His Presence</td><td>4.54</td></tr>",
                            "<tr><td>25101</td><td>Neil Gaiman, Matt Wagner, George Pratt, Dick Giordano, Kelley Jones, P. Craig Russell, Mike Dringenberg, Malcolm Jones III, Todd Klein, Harlan Ellison</td><td>Season of Mists (The Sandman #4)</td><td>4.54</td></tr>",
                            "<tr><td>89959</td><td>Founding Fathers</td><td>The Constitution of the United States of America</td><td>4.54</td></tr>",
                            "<tr><td>23766634</td><td>Sarah J. Maas</td><td>A Court of Wings and Ruin (A Court of Thorns and Roses, #3)</td><td>4.54</td></tr>",
                            "<tr><td>20706320</td><td>Chris Colfer, Brandon Dorman</td><td>A Grimm Warning (The Land of Stories, #3)</td><td>4.54</td></tr>",
                            "<tr><td>8163161</td><td>Bisco Hatori</td><td>Ouran High School Host Club, Vol. 15 (Ouran High School Host Club, #15)</td><td>4.54</td></tr>",
                            "<tr><td>5</td><td>J.K. Rowling, Mary GrandPré, Rufus Beck</td><td>Harry Potter and the Prisoner of Azkaban (Harry Potter, #3)</td><td>4.53</td></tr>",
                            "<tr><td>6</td><td>J.K. Rowling, Mary GrandPré</td><td>Harry Potter and the Goblet of Fire (Harry Potter, #4)</td><td>4.53</td></tr>",
                            "<tr><td>20613470</td><td>Sarah J. Maas</td><td>Heir of Fire (Throne of Glass, #3)</td><td>4.53</td></tr>",
                            "<tr><td>15195</td><td>Art Spiegelman</td><td>The Complete Maus (Maus, #1-2)</td><td>4.53</td></tr>",
                            "<tr><td>25104</td><td>Neil Gaiman, Michael Zulli, Jon J. Muth, Charles Vess, Mikal Gilmore</td><td>The Wake (The Sandman #10)</td><td>4.53</td></tr>",
                            "</table>"
                        ]
                    }
                }
            ],
            "execution_count": 17
        },
        {
            "cell_type": "markdown",
            "source": [
                "Question 2: Write a query to find the least popular book."
            ],
            "metadata": {
                "azdata_cell_guid": "777429b8-8622-489d-9c49-e2acecd7f17e"
            },
            "attachments": {}
        },
        {
            "cell_type": "code",
            "source": [
                "-- return least popular book\n",
                "SELECT *\n",
                "FROM BooksDB.dbo.books\n",
                "WHERE average_rating <3"
            ],
            "metadata": {
                "azdata_cell_guid": "c78a1779-db74-470f-a60a-7c72a43d774b",
                "language": "sql"
            },
            "outputs": [
                {
                    "output_type": "display_data",
                    "data": {
                        "text/html": "(13 rows affected)"
                    },
                    "metadata": {}
                },
                {
                    "output_type": "display_data",
                    "data": {
                        "text/html": "Total execution time: 00:00:00.145"
                    },
                    "metadata": {}
                },
                {
                    "output_type": "execute_result",
                    "metadata": {},
                    "execution_count": 5,
                    "data": {
                        "application/vnd.dataresource+json": {
                            "schema": {
                                "fields": [
                                    {
                                        "name": "id"
                                    },
                                    {
                                        "name": "book_id"
                                    },
                                    {
                                        "name": "best_book_id"
                                    },
                                    {
                                        "name": "work_id"
                                    },
                                    {
                                        "name": "books_count"
                                    },
                                    {
                                        "name": "isbn"
                                    },
                                    {
                                        "name": "isbn13"
                                    },
                                    {
                                        "name": "authors"
                                    },
                                    {
                                        "name": "original_publication_year"
                                    },
                                    {
                                        "name": "original_title"
                                    },
                                    {
                                        "name": "title"
                                    },
                                    {
                                        "name": "language_code"
                                    },
                                    {
                                        "name": "average_rating"
                                    },
                                    {
                                        "name": "ratings_count"
                                    },
                                    {
                                        "name": "work_ratings_count"
                                    },
                                    {
                                        "name": "work_text_reviews_count"
                                    },
                                    {
                                        "name": "ratings_1"
                                    },
                                    {
                                        "name": "ratings_2"
                                    },
                                    {
                                        "name": "ratings_3"
                                    },
                                    {
                                        "name": "ratings_4"
                                    },
                                    {
                                        "name": "ratings_5"
                                    },
                                    {
                                        "name": "image_url"
                                    },
                                    {
                                        "name": "small_image_url"
                                    }
                                ]
                            },
                            "data": [
                                {
                                    "id": "1409",
                                    "book_id": "3320520",
                                    "best_book_id": "3320520",
                                    "work_id": "3358314",
                                    "books_count": "18",
                                    "isbn": "NULL",
                                    "isbn13": "9788129113730",
                                    "authors": "Chetan Bhagat",
                                    "original_publication_year": "2008",
                                    "original_title": "The 3 Mistakes of My Life",
                                    "title": "The 3 Mistakes of My Life",
                                    "language_code": "eng",
                                    "average_rating": "2.97",
                                    "ratings_count": "53331",
                                    "work_ratings_count": "54794",
                                    "work_text_reviews_count": "1295",
                                    "ratings_1": "5980",
                                    "ratings_2": "12683",
                                    "ratings_3": "19012",
                                    "ratings_4": "11196",
                                    "ratings_5": "5923",
                                    "image_url": "https://s.gr-assets.com/assets/nophoto/book/111x148-bcc042a9c91a29c1d680899eff700a03.png",
                                    "small_image_url": "https://s.gr-assets.com/assets/nophoto/book/50x75-a91bf249278a81aabab721ef782c4a74.png"
                                },
                                {
                                    "id": "1793",
                                    "book_id": "105578",
                                    "best_book_id": "105578",
                                    "work_id": "101770",
                                    "books_count": "25",
                                    "isbn": "345498321",
                                    "isbn13": "9780345498330",
                                    "authors": "Chetan Bhagat",
                                    "original_publication_year": "2005",
                                    "original_title": "One Night @ The Call Center",
                                    "title": "One Night at the Call Center",
                                    "language_code": "eng",
                                    "average_rating": "2.47",
                                    "ratings_count": "40718",
                                    "work_ratings_count": "44833",
                                    "work_text_reviews_count": "1244",
                                    "ratings_1": "10559",
                                    "ratings_2": "14125",
                                    "ratings_3": "11872",
                                    "ratings_4": "5177",
                                    "ratings_5": "3100",
                                    "image_url": "https://images.gr-assets.com/books/1320500924m/105578.jpg",
                                    "small_image_url": "https://images.gr-assets.com/books/1320500924s/105578.jpg"
                                },
                                {
                                    "id": "3550",
                                    "book_id": "783291",
                                    "best_book_id": "783291",
                                    "work_id": "1584738",
                                    "books_count": "63",
                                    "isbn": "316677469",
                                    "isbn13": "9780316677460",
                                    "authors": "Alice Sebold",
                                    "original_publication_year": "2007",
                                    "original_title": "The Almost Moon",
                                    "title": "The Almost Moon",
                                    "language_code": "eng",
                                    "average_rating": "2.67",
                                    "ratings_count": "28299",
                                    "work_ratings_count": "31183",
                                    "work_text_reviews_count": "5223",
                                    "ratings_1": "5670",
                                    "ratings_2": "8233",
                                    "ratings_3": "9978",
                                    "ratings_4": "5312",
                                    "ratings_5": "1990",
                                    "image_url": "https://images.gr-assets.com/books/1310421579m/783291.jpg",
                                    "small_image_url": "https://images.gr-assets.com/books/1310421579s/783291.jpg"
                                },
                                {
                                    "id": "4009",
                                    "book_id": "6613",
                                    "best_book_id": "6613",
                                    "work_id": "2548756",
                                    "books_count": "57",
                                    "isbn": "080213825X",
                                    "isbn13": "9780802138260",
                                    "authors": "Candace Bushnell",
                                    "original_publication_year": "2000",
                                    "original_title": "Four Blondes",
                                    "title": "Four Blondes",
                                    "language_code": "NULL",
                                    "average_rating": "2.8",
                                    "ratings_count": "22278",
                                    "work_ratings_count": "23272",
                                    "work_text_reviews_count": "943",
                                    "ratings_1": "3921",
                                    "ratings_2": "5722",
                                    "ratings_3": "7219",
                                    "ratings_4": "3904",
                                    "ratings_5": "2506",
                                    "image_url": "https://s.gr-assets.com/assets/nophoto/book/111x148-bcc042a9c91a29c1d680899eff700a03.png",
                                    "small_image_url": "https://s.gr-assets.com/assets/nophoto/book/50x75-a91bf249278a81aabab721ef782c4a74.png"
                                },
                                {
                                    "id": "4282",
                                    "book_id": "4601396",
                                    "best_book_id": "4601396",
                                    "work_id": "4651129",
                                    "books_count": "50",
                                    "isbn": "385526342",
                                    "isbn13": "9780385526340",
                                    "authors": "Chuck Palahniuk",
                                    "original_publication_year": "2009",
                                    "original_title": "Pygmy",
                                    "title": "Pygmy",
                                    "language_code": "eng",
                                    "average_rating": "2.96",
                                    "ratings_count": "21242",
                                    "work_ratings_count": "22865",
                                    "work_text_reviews_count": "1782",
                                    "ratings_1": "3121",
                                    "ratings_2": "4811",
                                    "ratings_3": "7258",
                                    "ratings_4": "5192",
                                    "ratings_5": "2483",
                                    "image_url": "https://images.gr-assets.com/books/1320495043m/4601396.jpg",
                                    "small_image_url": "https://images.gr-assets.com/books/1320495043s/4601396.jpg"
                                },
                                {
                                    "id": "4283",
                                    "book_id": "16130307",
                                    "best_book_id": "16130307",
                                    "work_id": "20391423",
                                    "books_count": "59",
                                    "isbn": "1439136637",
                                    "isbn13": "9781439136640",
                                    "authors": "Lauren Weisberger",
                                    "original_publication_year": "2013",
                                    "original_title": "Revenge Wears Prada: The Devil Returns",
                                    "title": "Revenge Wears Prada: The Devil Returns (The Devil Wears Prada, #2)",
                                    "language_code": "en-US",
                                    "average_rating": "2.84",
                                    "ratings_count": "19210",
                                    "work_ratings_count": "24526",
                                    "work_text_reviews_count": "3352",
                                    "ratings_1": "3153",
                                    "ratings_2": "6351",
                                    "ratings_3": "8319",
                                    "ratings_4": "4564",
                                    "ratings_5": "2139",
                                    "image_url": "https://s.gr-assets.com/assets/nophoto/book/111x148-bcc042a9c91a29c1d680899eff700a03.png",
                                    "small_image_url": "https://s.gr-assets.com/assets/nophoto/book/50x75-a91bf249278a81aabab721ef782c4a74.png"
                                },
                                {
                                    "id": "4614",
                                    "book_id": "3648",
                                    "best_book_id": "3648",
                                    "work_id": "3255539",
                                    "books_count": "45",
                                    "isbn": "030726419X",
                                    "isbn13": "9780307264190",
                                    "authors": "Claire Messud",
                                    "original_publication_year": "2006",
                                    "original_title": "The Emperor's Children",
                                    "title": "The Emperor's Children",
                                    "language_code": "NULL",
                                    "average_rating": "2.93",
                                    "ratings_count": "15362",
                                    "work_ratings_count": "17593",
                                    "work_text_reviews_count": "2748",
                                    "ratings_1": "1958",
                                    "ratings_2": "4099",
                                    "ratings_3": "6121",
                                    "ratings_4": "4059",
                                    "ratings_5": "1356",
                                    "image_url": "https://images.gr-assets.com/books/1320497348m/3648.jpg",
                                    "small_image_url": "https://images.gr-assets.com/books/1320497348s/3648.jpg"
                                },
                                {
                                    "id": "8007",
                                    "book_id": "8664368",
                                    "best_book_id": "8664368",
                                    "work_id": "13535892",
                                    "books_count": "45",
                                    "isbn": "1408808870",
                                    "isbn13": "9781408808870",
                                    "authors": "Howard Jacobson",
                                    "original_publication_year": "2010",
                                    "original_title": "The Finkler Question",
                                    "title": "The Finkler Question",
                                    "language_code": "eng",
                                    "average_rating": "2.76",
                                    "ratings_count": "9627",
                                    "work_ratings_count": "12062",
                                    "work_text_reviews_count": "1913",
                                    "ratings_1": "1887",
                                    "ratings_2": "3046",
                                    "ratings_3": "3909",
                                    "ratings_4": "2466",
                                    "ratings_5": "754",
                                    "image_url": "https://images.gr-assets.com/books/1319018978m/8664368.jpg",
                                    "small_image_url": "https://images.gr-assets.com/books/1319018978s/8664368.jpg"
                                },
                                {
                                    "id": "8166",
                                    "book_id": "23503361",
                                    "best_book_id": "23503361",
                                    "work_id": "43085307",
                                    "books_count": "19",
                                    "isbn": "812995228",
                                    "isbn13": "9780812995220",
                                    "authors": "Julia Pierpont",
                                    "original_publication_year": "2015",
                                    "original_title": "Parmi les dix milliers de choses",
                                    "title": "Among the Ten Thousand Things",
                                    "language_code": "eng",
                                    "average_rating": "2.84",
                                    "ratings_count": "8458",
                                    "work_ratings_count": "9713",
                                    "work_text_reviews_count": "1317",
                                    "ratings_1": "1083",
                                    "ratings_2": "2630",
                                    "ratings_3": "3554",
                                    "ratings_4": "1658",
                                    "ratings_5": "788",
                                    "image_url": "https://images.gr-assets.com/books/1464907467m/23503361.jpg",
                                    "small_image_url": "https://images.gr-assets.com/books/1464907467s/23503361.jpg"
                                },
                                {
                                    "id": "8874",
                                    "book_id": "6855294",
                                    "best_book_id": "6855294",
                                    "work_id": "7068970",
                                    "books_count": "37",
                                    "isbn": "385526350",
                                    "isbn13": "9780385526360",
                                    "authors": "Chuck Palahniuk",
                                    "original_publication_year": "2010",
                                    "original_title": "Tell-All",
                                    "title": "Tell-All",
                                    "language_code": "NULL",
                                    "average_rating": "2.84",
                                    "ratings_count": "9733",
                                    "work_ratings_count": "11055",
                                    "work_text_reviews_count": "945",
                                    "ratings_1": "1274",
                                    "ratings_2": "2913",
                                    "ratings_3": "4045",
                                    "ratings_4": "1961",
                                    "ratings_5": "862",
                                    "image_url": "https://images.gr-assets.com/books/1320495064m/6855294.jpg",
                                    "small_image_url": "https://images.gr-assets.com/books/1320495064s/6855294.jpg"
                                },
                                {
                                    "id": "8960",
                                    "book_id": "12878667",
                                    "best_book_id": "12878667",
                                    "work_id": "17997709",
                                    "books_count": "36",
                                    "isbn": "385535775",
                                    "isbn13": "9780385535780",
                                    "authors": "Mark Haddon",
                                    "original_publication_year": "2012",
                                    "original_title": "The Red House",
                                    "title": "The Red House",
                                    "language_code": "eng",
                                    "average_rating": "2.93",
                                    "ratings_count": "10621",
                                    "work_ratings_count": "12543",
                                    "work_text_reviews_count": "2215",
                                    "ratings_1": "1307",
                                    "ratings_2": "2821",
                                    "ratings_3": "4739",
                                    "ratings_4": "2827",
                                    "ratings_5": "849",
                                    "image_url": "https://images.gr-assets.com/books/1333578268m/12878667.jpg",
                                    "small_image_url": "https://images.gr-assets.com/books/1333578268s/12878667.jpg"
                                },
                                {
                                    "id": "9021",
                                    "book_id": "24929",
                                    "best_book_id": "24929",
                                    "work_id": "1130986",
                                    "books_count": "18",
                                    "isbn": "60988649",
                                    "isbn13": "9780060988650",
                                    "authors": "Gregory Maguire, Douglas Smith",
                                    "original_publication_year": "2001",
                                    "original_title": "Lost",
                                    "title": "Lost",
                                    "language_code": "eng",
                                    "average_rating": "2.8",
                                    "ratings_count": "12534",
                                    "work_ratings_count": "12937",
                                    "work_text_reviews_count": "921",
                                    "ratings_1": "1749",
                                    "ratings_2": "3377",
                                    "ratings_3": "4518",
                                    "ratings_4": "2237",
                                    "ratings_5": "1056",
                                    "image_url": "https://images.gr-assets.com/books/1407711681m/24929.jpg",
                                    "small_image_url": "https://images.gr-assets.com/books/1407711681s/24929.jpg"
                                },
                                {
                                    "id": "9523",
                                    "book_id": "19523454",
                                    "best_book_id": "19523454",
                                    "work_id": "25747377",
                                    "books_count": "47",
                                    "isbn": "385538030",
                                    "isbn13": "9780385538040",
                                    "authors": "Chuck Palahniuk",
                                    "original_publication_year": "2014",
                                    "original_title": "Beautiful You",
                                    "title": "Beautiful You",
                                    "language_code": "eng",
                                    "average_rating": "2.98",
                                    "ratings_count": "8507",
                                    "work_ratings_count": "10035",
                                    "work_text_reviews_count": "1612",
                                    "ratings_1": "1230",
                                    "ratings_2": "2150",
                                    "ratings_3": "3339",
                                    "ratings_4": "2240",
                                    "ratings_5": "1076",
                                    "image_url": "https://images.gr-assets.com/books/1399667103m/19523454.jpg",
                                    "small_image_url": "https://images.gr-assets.com/books/1399667103s/19523454.jpg"
                                }
                            ]
                        },
                        "text/html": [
                            "<table>",
                            "<tr><th>id</th><th>book_id</th><th>best_book_id</th><th>work_id</th><th>books_count</th><th>isbn</th><th>isbn13</th><th>authors</th><th>original_publication_year</th><th>original_title</th><th>title</th><th>language_code</th><th>average_rating</th><th>ratings_count</th><th>work_ratings_count</th><th>work_text_reviews_count</th><th>ratings_1</th><th>ratings_2</th><th>ratings_3</th><th>ratings_4</th><th>ratings_5</th><th>image_url</th><th>small_image_url</th></tr>",
                            "<tr><td>1409</td><td>3320520</td><td>3320520</td><td>3358314</td><td>18</td><td>NULL</td><td>9788129113730</td><td>Chetan Bhagat</td><td>2008</td><td>The 3 Mistakes of My Life</td><td>The 3 Mistakes of My Life</td><td>eng</td><td>2.97</td><td>53331</td><td>54794</td><td>1295</td><td>5980</td><td>12683</td><td>19012</td><td>11196</td><td>5923</td><td>https://s.gr-assets.com/assets/nophoto/book/111x148-bcc042a9c91a29c1d680899eff700a03.png</td><td>https://s.gr-assets.com/assets/nophoto/book/50x75-a91bf249278a81aabab721ef782c4a74.png</td></tr>",
                            "<tr><td>1793</td><td>105578</td><td>105578</td><td>101770</td><td>25</td><td>345498321</td><td>9780345498330</td><td>Chetan Bhagat</td><td>2005</td><td>One Night @ The Call Center</td><td>One Night at the Call Center</td><td>eng</td><td>2.47</td><td>40718</td><td>44833</td><td>1244</td><td>10559</td><td>14125</td><td>11872</td><td>5177</td><td>3100</td><td>https://images.gr-assets.com/books/1320500924m/105578.jpg</td><td>https://images.gr-assets.com/books/1320500924s/105578.jpg</td></tr>",
                            "<tr><td>3550</td><td>783291</td><td>783291</td><td>1584738</td><td>63</td><td>316677469</td><td>9780316677460</td><td>Alice Sebold</td><td>2007</td><td>The Almost Moon</td><td>The Almost Moon</td><td>eng</td><td>2.67</td><td>28299</td><td>31183</td><td>5223</td><td>5670</td><td>8233</td><td>9978</td><td>5312</td><td>1990</td><td>https://images.gr-assets.com/books/1310421579m/783291.jpg</td><td>https://images.gr-assets.com/books/1310421579s/783291.jpg</td></tr>",
                            "<tr><td>4009</td><td>6613</td><td>6613</td><td>2548756</td><td>57</td><td>080213825X</td><td>9780802138260</td><td>Candace Bushnell</td><td>2000</td><td>Four Blondes</td><td>Four Blondes</td><td>NULL</td><td>2.8</td><td>22278</td><td>23272</td><td>943</td><td>3921</td><td>5722</td><td>7219</td><td>3904</td><td>2506</td><td>https://s.gr-assets.com/assets/nophoto/book/111x148-bcc042a9c91a29c1d680899eff700a03.png</td><td>https://s.gr-assets.com/assets/nophoto/book/50x75-a91bf249278a81aabab721ef782c4a74.png</td></tr>",
                            "<tr><td>4282</td><td>4601396</td><td>4601396</td><td>4651129</td><td>50</td><td>385526342</td><td>9780385526340</td><td>Chuck Palahniuk</td><td>2009</td><td>Pygmy</td><td>Pygmy</td><td>eng</td><td>2.96</td><td>21242</td><td>22865</td><td>1782</td><td>3121</td><td>4811</td><td>7258</td><td>5192</td><td>2483</td><td>https://images.gr-assets.com/books/1320495043m/4601396.jpg</td><td>https://images.gr-assets.com/books/1320495043s/4601396.jpg</td></tr>",
                            "<tr><td>4283</td><td>16130307</td><td>16130307</td><td>20391423</td><td>59</td><td>1439136637</td><td>9781439136640</td><td>Lauren Weisberger</td><td>2013</td><td>Revenge Wears Prada: The Devil Returns</td><td>Revenge Wears Prada: The Devil Returns (The Devil Wears Prada, #2)</td><td>en-US</td><td>2.84</td><td>19210</td><td>24526</td><td>3352</td><td>3153</td><td>6351</td><td>8319</td><td>4564</td><td>2139</td><td>https://s.gr-assets.com/assets/nophoto/book/111x148-bcc042a9c91a29c1d680899eff700a03.png</td><td>https://s.gr-assets.com/assets/nophoto/book/50x75-a91bf249278a81aabab721ef782c4a74.png</td></tr>",
                            "<tr><td>4614</td><td>3648</td><td>3648</td><td>3255539</td><td>45</td><td>030726419X</td><td>9780307264190</td><td>Claire Messud</td><td>2006</td><td>The Emperor's Children</td><td>The Emperor's Children</td><td>NULL</td><td>2.93</td><td>15362</td><td>17593</td><td>2748</td><td>1958</td><td>4099</td><td>6121</td><td>4059</td><td>1356</td><td>https://images.gr-assets.com/books/1320497348m/3648.jpg</td><td>https://images.gr-assets.com/books/1320497348s/3648.jpg</td></tr>",
                            "<tr><td>8007</td><td>8664368</td><td>8664368</td><td>13535892</td><td>45</td><td>1408808870</td><td>9781408808870</td><td>Howard Jacobson</td><td>2010</td><td>The Finkler Question</td><td>The Finkler Question</td><td>eng</td><td>2.76</td><td>9627</td><td>12062</td><td>1913</td><td>1887</td><td>3046</td><td>3909</td><td>2466</td><td>754</td><td>https://images.gr-assets.com/books/1319018978m/8664368.jpg</td><td>https://images.gr-assets.com/books/1319018978s/8664368.jpg</td></tr>",
                            "<tr><td>8166</td><td>23503361</td><td>23503361</td><td>43085307</td><td>19</td><td>812995228</td><td>9780812995220</td><td>Julia Pierpont</td><td>2015</td><td>Parmi les dix milliers de choses</td><td>Among the Ten Thousand Things</td><td>eng</td><td>2.84</td><td>8458</td><td>9713</td><td>1317</td><td>1083</td><td>2630</td><td>3554</td><td>1658</td><td>788</td><td>https://images.gr-assets.com/books/1464907467m/23503361.jpg</td><td>https://images.gr-assets.com/books/1464907467s/23503361.jpg</td></tr>",
                            "<tr><td>8874</td><td>6855294</td><td>6855294</td><td>7068970</td><td>37</td><td>385526350</td><td>9780385526360</td><td>Chuck Palahniuk</td><td>2010</td><td>Tell-All</td><td>Tell-All</td><td>NULL</td><td>2.84</td><td>9733</td><td>11055</td><td>945</td><td>1274</td><td>2913</td><td>4045</td><td>1961</td><td>862</td><td>https://images.gr-assets.com/books/1320495064m/6855294.jpg</td><td>https://images.gr-assets.com/books/1320495064s/6855294.jpg</td></tr>",
                            "<tr><td>8960</td><td>12878667</td><td>12878667</td><td>17997709</td><td>36</td><td>385535775</td><td>9780385535780</td><td>Mark Haddon</td><td>2012</td><td>The Red House</td><td>The Red House</td><td>eng</td><td>2.93</td><td>10621</td><td>12543</td><td>2215</td><td>1307</td><td>2821</td><td>4739</td><td>2827</td><td>849</td><td>https://images.gr-assets.com/books/1333578268m/12878667.jpg</td><td>https://images.gr-assets.com/books/1333578268s/12878667.jpg</td></tr>",
                            "<tr><td>9021</td><td>24929</td><td>24929</td><td>1130986</td><td>18</td><td>60988649</td><td>9780060988650</td><td>Gregory Maguire, Douglas Smith</td><td>2001</td><td>Lost</td><td>Lost</td><td>eng</td><td>2.8</td><td>12534</td><td>12937</td><td>921</td><td>1749</td><td>3377</td><td>4518</td><td>2237</td><td>1056</td><td>https://images.gr-assets.com/books/1407711681m/24929.jpg</td><td>https://images.gr-assets.com/books/1407711681s/24929.jpg</td></tr>",
                            "<tr><td>9523</td><td>19523454</td><td>19523454</td><td>25747377</td><td>47</td><td>385538030</td><td>9780385538040</td><td>Chuck Palahniuk</td><td>2014</td><td>Beautiful You</td><td>Beautiful You</td><td>eng</td><td>2.98</td><td>8507</td><td>10035</td><td>1612</td><td>1230</td><td>2150</td><td>3339</td><td>2240</td><td>1076</td><td>https://images.gr-assets.com/books/1399667103m/19523454.jpg</td><td>https://images.gr-assets.com/books/1399667103s/19523454.jpg</td></tr>",
                            "</table>"
                        ]
                    }
                }
            ],
            "execution_count": 5
        },
        {
            "cell_type": "markdown",
            "source": [
                "Question 3: Which tag is the most popular?"
            ],
            "metadata": {
                "azdata_cell_guid": "a370909d-5d64-49e2-8fec-5220730c8ca7"
            },
            "attachments": {}
        },
        {
            "cell_type": "code",
            "source": [
                "-- return most popular tag\n",
                "SELECT top 10 book_id AS 'Most Popular Tag'\n",
                "FROM BooksDB.dbo.books\n",
                "ORDER BY average_rating ASC;"
            ],
            "metadata": {
                "azdata_cell_guid": "9e0451dc-c4d3-4775-9eb1-904854f459ff",
                "tags": [],
                "language": "sql"
            },
            "outputs": [
                {
                    "output_type": "display_data",
                    "data": {
                        "text/html": "(10 rows affected)"
                    },
                    "metadata": {}
                },
                {
                    "output_type": "display_data",
                    "data": {
                        "text/html": "Total execution time: 00:00:00.136"
                    },
                    "metadata": {}
                },
                {
                    "output_type": "execute_result",
                    "metadata": {},
                    "execution_count": 9,
                    "data": {
                        "application/vnd.dataresource+json": {
                            "schema": {
                                "fields": [
                                    {
                                        "name": "Most Popular Tag"
                                    }
                                ]
                            },
                            "data": [
                                {
                                    "Most Popular Tag": "105578"
                                },
                                {
                                    "Most Popular Tag": "783291"
                                },
                                {
                                    "Most Popular Tag": "8664368"
                                },
                                {
                                    "Most Popular Tag": "6613"
                                },
                                {
                                    "Most Popular Tag": "24929"
                                },
                                {
                                    "Most Popular Tag": "16130307"
                                },
                                {
                                    "Most Popular Tag": "23503361"
                                },
                                {
                                    "Most Popular Tag": "6855294"
                                },
                                {
                                    "Most Popular Tag": "3648"
                                },
                                {
                                    "Most Popular Tag": "12878667"
                                }
                            ]
                        },
                        "text/html": [
                            "<table>",
                            "<tr><th>Most Popular Tag</th></tr>",
                            "<tr><td>105578</td></tr>",
                            "<tr><td>783291</td></tr>",
                            "<tr><td>8664368</td></tr>",
                            "<tr><td>6613</td></tr>",
                            "<tr><td>24929</td></tr>",
                            "<tr><td>16130307</td></tr>",
                            "<tr><td>23503361</td></tr>",
                            "<tr><td>6855294</td></tr>",
                            "<tr><td>3648</td></tr>",
                            "<tr><td>12878667</td></tr>",
                            "</table>"
                        ]
                    }
                }
            ],
            "execution_count": 9
        },
        {
            "cell_type": "markdown",
            "source": [
                "Question 4: What is the name of the most popular tag?"
            ],
            "metadata": {
                "azdata_cell_guid": "3cdfa7e6-c5a6-49fb-aa27-afeece881627"
            },
            "attachments": {}
        },
        {
            "cell_type": "code",
            "source": [
                "-- return name of most popular tag\n",
                "SELECT top 10 original_title AS 'Most Popular Tag'\n",
                "FROM BooksDB.dbo.books\n",
                "WHERE average_rating > 4"
            ],
            "metadata": {
                "azdata_cell_guid": "3cd3a3ec-4ce2-49b6-b714-44179eed00e1",
                "language": "sql"
            },
            "outputs": [
                {
                    "output_type": "display_data",
                    "data": {
                        "text/html": "(10 rows affected)"
                    },
                    "metadata": {}
                },
                {
                    "output_type": "display_data",
                    "data": {
                        "text/html": "Total execution time: 00:00:00.105"
                    },
                    "metadata": {}
                },
                {
                    "output_type": "execute_result",
                    "metadata": {},
                    "execution_count": 14,
                    "data": {
                        "application/vnd.dataresource+json": {
                            "schema": {
                                "fields": [
                                    {
                                        "name": "Most Popular Tag"
                                    }
                                ]
                            },
                            "data": [
                                {
                                    "Most Popular Tag": "The Hunger Games"
                                },
                                {
                                    "Most Popular Tag": "Harry Potter and the Philosopher's Stone"
                                },
                                {
                                    "Most Popular Tag": "To Kill a Mockingbird"
                                },
                                {
                                    "Most Popular Tag": "The Fault in Our Stars"
                                },
                                {
                                    "Most Popular Tag": "The Hobbit or There and Back Again"
                                },
                                {
                                    "Most Popular Tag": "Pride and Prejudice"
                                },
                                {
                                    "Most Popular Tag": "The Kite Runner "
                                },
                                {
                                    "Most Popular Tag": "Divergent"
                                },
                                {
                                    "Most Popular Tag": "Nineteen Eighty-Four"
                                },
                                {
                                    "Most Popular Tag": "Het Achterhuis: Dagboekbrieven 14 juni 1942 - 1 augustus 1944"
                                }
                            ]
                        },
                        "text/html": [
                            "<table>",
                            "<tr><th>Most Popular Tag</th></tr>",
                            "<tr><td>The Hunger Games</td></tr>",
                            "<tr><td>Harry Potter and the Philosopher's Stone</td></tr>",
                            "<tr><td>To Kill a Mockingbird</td></tr>",
                            "<tr><td>The Fault in Our Stars</td></tr>",
                            "<tr><td>The Hobbit or There and Back Again</td></tr>",
                            "<tr><td>Pride and Prejudice</td></tr>",
                            "<tr><td>The Kite Runner </td></tr>",
                            "<tr><td>Divergent</td></tr>",
                            "<tr><td>Nineteen Eighty-Four</td></tr>",
                            "<tr><td>Het Achterhuis: Dagboekbrieven 14 juni 1942 - 1 augustus 1944</td></tr>",
                            "</table>"
                        ]
                    }
                }
            ],
            "execution_count": 14
        },
        {
            "cell_type": "markdown",
            "source": [
                "Question 5: How many books where released in the first decade of 2000?"
            ],
            "metadata": {
                "azdata_cell_guid": "b3962545-c0c2-47ca-a3c4-299c2c0a4b0c"
            },
            "attachments": {}
        },
        {
            "cell_type": "code",
            "source": [
                "-- return number of books published in the first decade of 2000\n",
                "SELECT COUNT(original_publication_year) AS 'First decade of 2000'\n",
                "FROM BooksDB.dbo.books\n",
                "WHERE original_publication_year = 2000"
            ],
            "metadata": {
                "azdata_cell_guid": "8dcd65e9-1b3e-4cf8-b726-26729a1225f2",
                "language": "sql"
            },
            "outputs": [
                {
                    "output_type": "display_data",
                    "data": {
                        "text/html": "(1 row affected)"
                    },
                    "metadata": {}
                },
                {
                    "output_type": "display_data",
                    "data": {
                        "text/html": "Total execution time: 00:00:00.169"
                    },
                    "metadata": {}
                },
                {
                    "output_type": "execute_result",
                    "metadata": {},
                    "execution_count": 11,
                    "data": {
                        "application/vnd.dataresource+json": {
                            "schema": {
                                "fields": [
                                    {
                                        "name": "First decade of 2000"
                                    }
                                ]
                            },
                            "data": [
                                {
                                    "First decade of 2000": "209"
                                }
                            ]
                        },
                        "text/html": [
                            "<table>",
                            "<tr><th>First decade of 2000</th></tr>",
                            "<tr><td>209</td></tr>",
                            "</table>"
                        ]
                    }
                }
            ],
            "execution_count": 11
        },
        {
            "cell_type": "markdown",
            "source": [
                "Question 6: How many book titles contain the word Happy?"
            ],
            "metadata": {
                "azdata_cell_guid": "5080d6de-2775-4055-97ae-f93fce97a426"
            },
            "attachments": {}
        },
        {
            "cell_type": "code",
            "source": [
                "-- return number of books that contain the word Happy\n",
                "SELECT COUNT (books_count) AS ' Number of books that contain Happy'\n",
                "FROM BooksDB.dbo.books\n",
                "WHERE title = 'Happy' and title ='happy'"
            ],
            "metadata": {
                "azdata_cell_guid": "f55f18b9-91b1-4761-ad8c-4758434d7827",
                "language": "sql"
            },
            "outputs": [
                {
                    "output_type": "display_data",
                    "data": {
                        "text/html": "(1 row affected)"
                    },
                    "metadata": {}
                },
                {
                    "output_type": "display_data",
                    "data": {
                        "text/html": "Total execution time: 00:00:00.073"
                    },
                    "metadata": {}
                },
                {
                    "output_type": "execute_result",
                    "metadata": {},
                    "execution_count": 15,
                    "data": {
                        "application/vnd.dataresource+json": {
                            "schema": {
                                "fields": [
                                    {
                                        "name": " Number of books that contain Happy"
                                    }
                                ]
                            },
                            "data": [
                                {
                                    " Number of books that contain Happy": "0"
                                }
                            ]
                        },
                        "text/html": [
                            "<table>",
                            "<tr><th> Number of books that contain Happy</th></tr>",
                            "<tr><td>0</td></tr>",
                            "</table>"
                        ]
                    }
                }
            ],
            "execution_count": 15
        },
        {
            "cell_type": "markdown",
            "source": [
                "Question 7: List the books from the top 3 authors from question 1.  If there is more than one author just use the first one. Sort the titles <span style=\"background-color: rgba(127, 127, 127, 0.1); font-family: -apple-system, BlinkMacSystemFont, sans-serif;\">alphabetically by author and then by average_rating, best rated to lowest. Does order matter in sorting?</span>"
            ],
            "metadata": {
                "azdata_cell_guid": "d38270ef-da5a-42b4-802a-506acb8b9e4b"
            },
            "attachments": {}
        },
        {
            "cell_type": "code",
            "source": [
                "-- return all books from the top 3 authors, sort by author and rating\n",
                "SELECT top 3 authors\n",
                "FROM BooksDB.dbo.books\n",
                "ORDER BY authors, average_rating ASC"
            ],
            "metadata": {
                "azdata_cell_guid": "47466fac-5d8d-491d-bd3c-2f8496f55e6b",
                "language": "sql"
            },
            "outputs": [
                {
                    "output_type": "display_data",
                    "data": {
                        "text/html": "(3 rows affected)"
                    },
                    "metadata": {}
                },
                {
                    "output_type": "display_data",
                    "data": {
                        "text/html": "Total execution time: 00:00:00.069"
                    },
                    "metadata": {}
                },
                {
                    "output_type": "execute_result",
                    "metadata": {},
                    "execution_count": 16,
                    "data": {
                        "application/vnd.dataresource+json": {
                            "schema": {
                                "fields": [
                                    {
                                        "name": "authors"
                                    }
                                ]
                            },
                            "data": [
                                {
                                    "authors": "A. Manette Ansay"
                                },
                                {
                                    "authors": "A. Meredith Walters"
                                },
                                {
                                    "authors": "A. Meredith Walters"
                                }
                            ]
                        },
                        "text/html": [
                            "<table>",
                            "<tr><th>authors</th></tr>",
                            "<tr><td>A. Manette Ansay</td></tr>",
                            "<tr><td>A. Meredith Walters</td></tr>",
                            "<tr><td>A. Meredith Walters</td></tr>",
                            "</table>"
                        ]
                    }
                }
            ],
            "execution_count": 16
        },
        {
            "cell_type": "markdown",
            "source": [
                "Question 8: Take a close look at J.K. Rowling.  Is her top rated book on this list from question 1?  Why might this be? How could we account for this?\n",
                "\n",
                ">  As per the list above and question 1 J.K.Rowling is not on the Top list but appers 2nd n the row being same hightest average rating as It is order by descending."
            ],
            "metadata": {
                "azdata_cell_guid": "db907c70-0bbd-4121-ac91-ae814f703243"
            },
            "attachments": {}
        },
        {
            "cell_type": "markdown",
            "source": [
                "Try updating your above query to include all of J.K. Rowling's books.\n",
                "\n",
                "Are there any other issues?\n",
                "\n",
                "> Click here to add your answer."
            ],
            "metadata": {
                "azdata_cell_guid": "35ee4a48-8e84-4eb5-95ca-f5cdddc8d682"
            },
            "attachments": {}
        },
        {
            "cell_type": "code",
            "source": [
                "-- Try updating your above query to include all of J.K. Rowling's books\n",
                "SELECT top 10\n",
                "book_id, authors, title, average_rating\n",
                "FROM BooksDB.dbo.books\n",
                "WHERE authors = 'J.K. Rowling' OR authors = 'j.k.rowling'\n",
                "ORDER BY average_rating DESC"
            ],
            "metadata": {
                "azdata_cell_guid": "ce489012-fce9-435c-b570-7734223a0678",
                "tags": [],
                "language": "sql"
            },
            "outputs": [
                {
                    "output_type": "display_data",
                    "data": {
                        "text/html": "(8 rows affected)"
                    },
                    "metadata": {}
                },
                {
                    "output_type": "display_data",
                    "data": {
                        "text/html": "Total execution time: 00:00:00.138"
                    },
                    "metadata": {}
                },
                {
                    "output_type": "execute_result",
                    "metadata": {},
                    "execution_count": 21,
                    "data": {
                        "application/vnd.dataresource+json": {
                            "schema": {
                                "fields": [
                                    {
                                        "name": "book_id"
                                    },
                                    {
                                        "name": "authors"
                                    },
                                    {
                                        "name": "title"
                                    },
                                    {
                                        "name": "average_rating"
                                    }
                                ]
                            },
                            "data": [
                                {
                                    "book_id": "862041",
                                    "authors": "J.K. Rowling",
                                    "title": "Harry Potter Boxset (Harry Potter, #1-7)",
                                    "average_rating": "4.74"
                                },
                                {
                                    "book_id": "10",
                                    "authors": "J.K. Rowling",
                                    "title": "Harry Potter Collection (Harry Potter, #1-6)",
                                    "average_rating": "4.73"
                                },
                                {
                                    "book_id": "1317181",
                                    "authors": "J.K. Rowling",
                                    "title": "Harry Potter and the Order of the Phoenix (Harry Potter, #5, Part 1)",
                                    "average_rating": "4.56"
                                },
                                {
                                    "book_id": "30065028",
                                    "authors": "J.K. Rowling",
                                    "title": "Fantastic Beasts and Where to Find Them: The Original Screenplay",
                                    "average_rating": "4.41"
                                },
                                {
                                    "book_id": "2002",
                                    "authors": "J.K. Rowling",
                                    "title": "Harry Potter Schoolbooks Box Set: Two Classic Books from the Library of Hogwarts School of Witchcraft and Wizardry",
                                    "average_rating": "4.4"
                                },
                                {
                                    "book_id": "31538647",
                                    "authors": "J.K. Rowling",
                                    "title": "Hogwarts: An Incomplete and Unreliable Guide (Pottermore Presents, #3)",
                                    "average_rating": "4.21"
                                },
                                {
                                    "book_id": "3950967",
                                    "authors": "J.K. Rowling",
                                    "title": "The Tales of Beedle the Bard",
                                    "average_rating": "4.06"
                                },
                                {
                                    "book_id": "13497818",
                                    "authors": "J.K. Rowling",
                                    "title": "The Casual Vacancy",
                                    "average_rating": "3.28"
                                }
                            ]
                        },
                        "text/html": [
                            "<table>",
                            "<tr><th>book_id</th><th>authors</th><th>title</th><th>average_rating</th></tr>",
                            "<tr><td>862041</td><td>J.K. Rowling</td><td>Harry Potter Boxset (Harry Potter, #1-7)</td><td>4.74</td></tr>",
                            "<tr><td>10</td><td>J.K. Rowling</td><td>Harry Potter Collection (Harry Potter, #1-6)</td><td>4.73</td></tr>",
                            "<tr><td>1317181</td><td>J.K. Rowling</td><td>Harry Potter and the Order of the Phoenix (Harry Potter, #5, Part 1)</td><td>4.56</td></tr>",
                            "<tr><td>30065028</td><td>J.K. Rowling</td><td>Fantastic Beasts and Where to Find Them: The Original Screenplay</td><td>4.41</td></tr>",
                            "<tr><td>2002</td><td>J.K. Rowling</td><td>Harry Potter Schoolbooks Box Set: Two Classic Books from the Library of Hogwarts School of Witchcraft and Wizardry</td><td>4.4</td></tr>",
                            "<tr><td>31538647</td><td>J.K. Rowling</td><td>Hogwarts: An Incomplete and Unreliable Guide (Pottermore Presents, #3)</td><td>4.21</td></tr>",
                            "<tr><td>3950967</td><td>J.K. Rowling</td><td>The Tales of Beedle the Bard</td><td>4.06</td></tr>",
                            "<tr><td>13497818</td><td>J.K. Rowling</td><td>The Casual Vacancy</td><td>3.28</td></tr>",
                            "</table>"
                        ]
                    }
                }
            ],
            "execution_count": 21
        },
        {
            "cell_type": "markdown",
            "source": [
                "Question 9: Write a query that returns the number of Authors whose first name is between rock and roll."
            ],
            "metadata": {
                "azdata_cell_guid": "75bf5054-4918-4e9e-8e03-24a38ffab9cc"
            },
            "attachments": {}
        },
        {
            "cell_type": "code",
            "source": [
                "-- return number of authors whose first name is between rock and roll\n",
                "SELECT authors\n",
                "FROM BooksDB.dbo.books\n",
                "WHERE authors BETWEEN 'rock' and 'roll'"
            ],
            "metadata": {
                "azdata_cell_guid": "491b2492-95d4-4078-b319-386b0c5592ec",
                "language": "sql",
                "tags": []
            },
            "outputs": [
                {
                    "output_type": "display_data",
                    "data": {
                        "text/html": "(25 rows affected)"
                    },
                    "metadata": {}
                },
                {
                    "output_type": "display_data",
                    "data": {
                        "text/html": "Total execution time: 00:00:00.113"
                    },
                    "metadata": {}
                },
                {
                    "output_type": "execute_result",
                    "metadata": {},
                    "execution_count": 22,
                    "data": {
                        "application/vnd.dataresource+json": {
                            "schema": {
                                "fields": [
                                    {
                                        "name": "authors"
                                    }
                                ]
                            },
                            "data": [
                                {
                                    "authors": "Rohinton Mistry"
                                },
                                {
                                    "authors": "Roger Fisher, William Ury, Bruce Patton"
                                },
                                {
                                    "authors": "Roger Zelazny"
                                },
                                {
                                    "authors": "Rodman Philbrick"
                                },
                                {
                                    "authors": "Roland Barthes, Richard Howard"
                                },
                                {
                                    "authors": "Roger Zelazny"
                                },
                                {
                                    "authors": "Roger Zelazny, Sönmez Güven"
                                },
                                {
                                    "authors": "Rohinton Mistry"
                                },
                                {
                                    "authors": "Roger Lowenstein"
                                },
                                {
                                    "authors": "Roland Smith"
                                },
                                {
                                    "authors": "Roddy Doyle"
                                },
                                {
                                    "authors": "Roger Zelazny"
                                },
                                {
                                    "authors": "Rod Campbell"
                                },
                                {
                                    "authors": "Rolf Potts"
                                },
                                {
                                    "authors": "Roger Zelazny"
                                },
                                {
                                    "authors": "Roland Smith"
                                },
                                {
                                    "authors": "Rolf Dobelli"
                                },
                                {
                                    "authors": "Roland Merullo"
                                },
                                {
                                    "authors": "Roger Zelazny"
                                },
                                {
                                    "authors": "Roddy Doyle"
                                },
                                {
                                    "authors": "Roland Barthes, Annette Lavers"
                                },
                                {
                                    "authors": "Roger Zelazny"
                                },
                                {
                                    "authors": "Roderick Gordon, Brian  Williams"
                                },
                                {
                                    "authors": "Roger Lea MacBride, David Gilleece"
                                },
                                {
                                    "authors": "Roger Zelazny"
                                }
                            ]
                        },
                        "text/html": [
                            "<table>",
                            "<tr><th>authors</th></tr>",
                            "<tr><td>Rohinton Mistry</td></tr>",
                            "<tr><td>Roger Fisher, William Ury, Bruce Patton</td></tr>",
                            "<tr><td>Roger Zelazny</td></tr>",
                            "<tr><td>Rodman Philbrick</td></tr>",
                            "<tr><td>Roland Barthes, Richard Howard</td></tr>",
                            "<tr><td>Roger Zelazny</td></tr>",
                            "<tr><td>Roger Zelazny, Sönmez Güven</td></tr>",
                            "<tr><td>Rohinton Mistry</td></tr>",
                            "<tr><td>Roger Lowenstein</td></tr>",
                            "<tr><td>Roland Smith</td></tr>",
                            "<tr><td>Roddy Doyle</td></tr>",
                            "<tr><td>Roger Zelazny</td></tr>",
                            "<tr><td>Rod Campbell</td></tr>",
                            "<tr><td>Rolf Potts</td></tr>",
                            "<tr><td>Roger Zelazny</td></tr>",
                            "<tr><td>Roland Smith</td></tr>",
                            "<tr><td>Rolf Dobelli</td></tr>",
                            "<tr><td>Roland Merullo</td></tr>",
                            "<tr><td>Roger Zelazny</td></tr>",
                            "<tr><td>Roddy Doyle</td></tr>",
                            "<tr><td>Roland Barthes, Annette Lavers</td></tr>",
                            "<tr><td>Roger Zelazny</td></tr>",
                            "<tr><td>Roderick Gordon, Brian  Williams</td></tr>",
                            "<tr><td>Roger Lea MacBride, David Gilleece</td></tr>",
                            "<tr><td>Roger Zelazny</td></tr>",
                            "</table>"
                        ]
                    }
                }
            ],
            "execution_count": 22
        },
        {
            "cell_type": "markdown",
            "source": [
                "## Part 2. Write your own question and write a query to answer it.\n",
                "\n",
                "Your Question:  Click here to add"
            ],
            "metadata": {
                "azdata_cell_guid": "1ba1363a-4f02-4962-a95a-93b80c5926b1"
            },
            "attachments": {}
        },
        {
            "cell_type": "code",
            "source": [
                "-- Add your querry here\n",
                "SELECT COUNT tag_name \n",
                "FROM BooksDB.dbo.book_tags\n",
                "WHERE tag_id = 1"
            ],
            "metadata": {
                "azdata_cell_guid": "607f1a61-b306-42bf-a20c-60ec3a6ba86a",
                "language": "sql"
            },
            "outputs": [
                {
                    "output_type": "display_data",
                    "data": {
                        "text/html": "(2 rows affected)"
                    },
                    "metadata": {}
                },
                {
                    "output_type": "display_data",
                    "data": {
                        "text/html": "Total execution time: 00:00:00.152"
                    },
                    "metadata": {}
                },
                {
                    "output_type": "execute_result",
                    "metadata": {},
                    "execution_count": 24,
                    "data": {
                        "application/vnd.dataresource+json": {
                            "schema": {
                                "fields": [
                                    {
                                        "name": "tag_name"
                                    }
                                ]
                            },
                            "data": [
                                {
                                    "tag_name": "3"
                                },
                                {
                                    "tag_name": "3"
                                }
                            ]
                        },
                        "text/html": [
                            "<table>",
                            "<tr><th>tag_name</th></tr>",
                            "<tr><td>3</td></tr>",
                            "<tr><td>3</td></tr>",
                            "</table>"
                        ]
                    }
                }
            ],
            "execution_count": 24
        },
        {
            "cell_type": "markdown",
            "source": [
                "Your Question: Click here to add"
            ],
            "metadata": {
                "azdata_cell_guid": "9386ad04-a016-44d4-8c5c-d25a102d47b4"
            }
        },
        {
            "cell_type": "code",
            "source": [
                "-- Add your querry here\n",
                "SELECT TOP 1 title\n",
                "FROM booksdb.dbo.books\n",
                "WHERE\n",
                "len(title) = \n",
                "(SELECT max(len(title)) FROM booksdb.dbo.books);"
            ],
            "metadata": {
                "azdata_cell_guid": "15f249cf-aad7-468d-92e1-429b2a09f285",
                "language": "sql"
            },
            "outputs": [
                {
                    "output_type": "display_data",
                    "data": {
                        "text/html": "(1 row affected)"
                    },
                    "metadata": {}
                },
                {
                    "output_type": "display_data",
                    "data": {
                        "text/html": "Total execution time: 00:00:00.091"
                    },
                    "metadata": {}
                },
                {
                    "output_type": "execute_result",
                    "metadata": {},
                    "execution_count": 28,
                    "data": {
                        "application/vnd.dataresource+json": {
                            "schema": {
                                "fields": [
                                    {
                                        "name": "title"
                                    }
                                ]
                            },
                            "data": [
                                {
                                    "title": "Soccernomics: Why England Loses, Why Germany and Brazil Win, and Why the U.S., Japan, Australia, Turkey--and Even Iraq--Are Destined to Become the Kings of the World's Most Popular Sport"
                                }
                            ]
                        },
                        "text/html": [
                            "<table>",
                            "<tr><th>title</th></tr>",
                            "<tr><td>Soccernomics: Why England Loses, Why Germany and Brazil Win, and Why the U.S., Japan, Australia, Turkey--and Even Iraq--Are Destined to Become the Kings of the World's Most Popular Sport</td></tr>",
                            "</table>"
                        ]
                    }
                }
            ],
            "execution_count": 28
        },
        {
            "cell_type": "markdown",
            "source": [
                "**Some Question Examples:**\n",
                "\n",
                "Write a query that returns the longest title?\n",
                "\n",
                "```\n",
                "SELECT TOP 1 titleFROM booksdb.dbo.booksWHERElen(title) = (SELECT max(len(title)) FROM booksdb.dbo.books);\n",
                "\n",
                "```\n",
                "\n",
                "Which Author has written the most books?\n",
                "\n",
                "Top  ten books written the year I was born?"
            ],
            "metadata": {
                "azdata_cell_guid": "7160362b-7127-4123-bd1d-95a94ae38a07"
            },
            "attachments": {}
        }
    ]
}